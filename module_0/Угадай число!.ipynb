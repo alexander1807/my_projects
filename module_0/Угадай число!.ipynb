{
 "cells": [
  {
   "cell_type": "code",
   "execution_count": 1,
   "metadata": {},
   "outputs": [],
   "source": [
    "import numpy as np\n",
    "\n",
    "def game_core_v2(number):\n",
    "    '''Сначала устанавливаем любое random число, а потом уменьшаем или увеличиваем его в зависимости от того, больше оно или меньше нужного.\n",
    "       Функция принимает загаданное число и возвращает число попыток'''\n",
    "    count = 1\n",
    "    \n",
    "    list_numbers = [] #создание нового списка с цифрами\n",
    "    for i in range(0,100): \n",
    "        list_numbers.append(i)\n",
    "\n",
    "    lower_value = 0 #первый элемент списка\n",
    "    top_value = len(list_numbers) - 1 #последний элемент списка\n",
    "    predict = len(list_numbers) // 2 #средний элемент списка\n",
    "    \n",
    "    '''Значение среднего элемента сравнивается с искомым значением. Если искомое значение больше значения среднего элемента,\n",
    "       то нижняя граница сдвигается за средний элемент на один элемент справа. Если искомое значение меньше значения среднего элемента,\n",
    "       то верхняя граница сдвигается на элемент перед средним.'''\n",
    "    while predict != number and lower_value <= top_value:\n",
    "        count+=1\n",
    "        if number > predict:\n",
    "            lower_value = predict + 1\n",
    "        elif number < predict:\n",
    "            top_value = predict - 1\n",
    "        predict = (lower_value+top_value) // 2\n",
    "    return(count) # выход из цикла, если угадали\n",
    "\n",
    "\n",
    "def score_game(game_core):\n",
    "    '''Запускаем игру 1000 раз, чтобы узнать, как быстро игра угадывает число'''\n",
    "    count_ls = []\n",
    "    np.random.seed(1)  # фиксируем RANDOM SEED, чтобы ваш эксперимент был воспроизводим!\n",
    "    random_array = np.random.randint(1,101, size=(1000))\n",
    "    for number in random_array:\n",
    "        count_ls.append(game_core(number))\n",
    "    score = int(np.mean(count_ls))\n",
    "    print(f\"Ваш алгоритм угадывает число в среднем за {score} попыток\")\n",
    "    return(score)"
   ]
  },
  {
   "cell_type": "code",
   "execution_count": 2,
   "metadata": {},
   "outputs": [
    {
     "name": "stdout",
     "output_type": "stream",
     "text": [
      "Ваш алгоритм угадывает число в среднем за 5 попыток\n"
     ]
    },
    {
     "data": {
      "text/plain": [
       "5"
      ]
     },
     "execution_count": 2,
     "metadata": {},
     "output_type": "execute_result"
    }
   ],
   "source": [
    "# Проверяем\n",
    "score_game(game_core_v2)"
   ]
  }
 ],
 "metadata": {
  "kernelspec": {
   "display_name": "Python 3",
   "language": "python",
   "name": "python3"
  },
  "language_info": {
   "codemirror_mode": {
    "name": "ipython",
    "version": 3
   },
   "file_extension": ".py",
   "mimetype": "text/x-python",
   "name": "python",
   "nbconvert_exporter": "python",
   "pygments_lexer": "ipython3",
   "version": "3.8.5"
  }
 },
 "nbformat": 4,
 "nbformat_minor": 4
}
